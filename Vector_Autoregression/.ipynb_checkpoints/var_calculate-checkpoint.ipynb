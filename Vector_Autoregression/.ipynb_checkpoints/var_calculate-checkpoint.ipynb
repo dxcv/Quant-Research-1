{
 "cells": [
  {
   "cell_type": "markdown",
   "metadata": {},
   "source": [
    "These analysis are based on https://cran.r-project.org/web/packages/VARsignR/vignettes/VARsignR-vignette.html#fnref2"
   ]
  },
  {
   "cell_type": "code",
   "execution_count": 1,
   "metadata": {},
   "outputs": [
    {
     "name": "stderr",
     "output_type": "stream",
     "text": [
      "E:\\Anaconda2\\lib\\site-packages\\statsmodels\\compat\\pandas.py:56: FutureWarning: The pandas.core.datetools module is deprecated and will be removed in a future version. Please use the pandas.tseries module instead.\n",
      "  from pandas.core import datetools\n"
     ]
    }
   ],
   "source": [
    "import matplotlib.pyplot as plt\n",
    "%matplotlib inline\n",
    "import pandas as pd\n",
    "from statsmodels.tsa.vector_ar import var_model as sm\n",
    "import numpy as np\n",
    "from math import sqrt\n",
    "from statsmodels.tsa.vector_ar import util"
   ]
  },
  {
   "cell_type": "markdown",
   "metadata": {},
   "source": [
    "first we need a pure cholesky decomposition version"
   ]
  },
  {
   "cell_type": "code",
   "execution_count": 2,
   "metadata": {},
   "outputs": [],
   "source": [
    "data = pd.read_csv(\"test_data3.csv\")\n",
    "lags = 1"
   ]
  },
  {
   "cell_type": "code",
   "execution_count": 3,
   "metadata": {},
   "outputs": [],
   "source": [
    "var = sm.VAR(endog=data.values)"
   ]
  },
  {
   "cell_type": "code",
   "execution_count": 4,
   "metadata": {},
   "outputs": [
    {
     "name": "stderr",
     "output_type": "stream",
     "text": [
      "E:\\Anaconda2\\lib\\site-packages\\statsmodels\\tsa\\vector_ar\\var_model.py:461: FutureWarning: `rcond` parameter will change to the default of machine precision times ``max(M, N)`` where M and N are the input matrix dimensions.\n",
      "To use the future default and silence this warning we advise to pass `rcond=None`, to keep using the old, explicitly pass `rcond=-1`.\n",
      "  params = np.linalg.lstsq(z, y_sample)[0]\n"
     ]
    }
   ],
   "source": [
    "result = var.fit(lags, trend=\"nc\")"
   ]
  },
  {
   "cell_type": "markdown",
   "metadata": {},
   "source": [
    "first estimate unrestricted VAR, then distract A_td and sigma_td from the regression result, where  \n",
    "$$\\Sigma = E[uu^T]$$\n",
    "$$u = Be$$\n",
    "$$BB^T = \\Sigma$$"
   ]
  },
  {
   "cell_type": "markdown",
   "metadata": {},
   "source": [
    "for estimating VAR(p), we have to write the estimation ourselves"
   ]
  },
  {
   "cell_type": "markdown",
   "metadata": {},
   "source": [
    "Then we use a cholesky decomposition to generate uncorrelated innovations, notice that we are not using the decomposition matrix as an ordering, but just to generate uncorrelated innovations, namely P"
   ]
  },
  {
   "cell_type": "markdown",
   "metadata": {},
   "source": [
    "So the innovations according to the cholesky decomposition should be  \n",
    "following Uhlig’s(2005) rejection method, we draw impulse vector a from unit sphere"
   ]
  },
  {
   "cell_type": "markdown",
   "metadata": {},
   "source": [
    "Then we start the restricted impulse reponse analysis"
   ]
  },
  {
   "cell_type": "markdown",
   "metadata": {},
   "source": [
    "here is a VAR(p) version"
   ]
  },
  {
   "cell_type": "code",
   "execution_count": 5,
   "metadata": {},
   "outputs": [],
   "source": [
    "def irf(var_result, innovation_idx, larger_restrict_matrix, less_restrict_matrix, impulse_count, draw_count, restrict_period, verbose=False, plot=True):\n",
    "    \n",
    "    def get_sphere_rand():\n",
    "        while True:\n",
    "            trand = np.random.rand(len(sigma)) - 0.5\n",
    "            return trand / sqrt(sum(trand**2))\n",
    "    \n",
    "    larger_restrict_array = larger_restrict_matrix[:, innovation_idx]\n",
    "    less_restrict_array = less_restrict_matrix[:, innovation_idx]\n",
    "    p, k = result.coefs.shape[0], result.coefs.shape[1]\n",
    "    A_1 = result.coefs[0]\n",
    "    sigma = result.sigma_u\n",
    "    \n",
    "    P = np.linalg.cholesky(sigma)\n",
    "    B = np.linalg.inv(P)\n",
    "    \n",
    "    impulse_matrix = np.zeros((draw_count, A_1.shape[0], impulse_count))\n",
    "    a_matrix = np.zeros((A_1.shape[0], draw_count))\n",
    "    \n",
    "    a = None\n",
    "    for j in xrange(draw_count):\n",
    "        if verbose:\n",
    "            print j\n",
    "        i = 0\n",
    "        a = get_sphere_rand()\n",
    "        while True:\n",
    "            if i == impulse_count:\n",
    "                break\n",
    "            t_impulse = (A_1**(i + 1)).dot(B).dot(a)    \n",
    "            if i < restrict_period and (t_impulse[larger_restrict_array] > 0.0).all() and (t_impulse[less_restrict_array] < 0.0).all():\n",
    "                impulse_matrix[j, :, i] = t_impulse\n",
    "                a_matrix[:, j] = a\n",
    "                i += 1\n",
    "            elif i >= restrict_period:\n",
    "                impulse_matrix[j, :, i] = t_impulse\n",
    "                a_matrix[:, j] = a\n",
    "                i += 1\n",
    "            else:\n",
    "                a = -a # variance control method\n",
    "\n",
    "                if i < restrict_period and (t_impulse[larger_restrict_array] > 0.0).all() and (t_impulse[less_restrict_array] < 0.0).all():\n",
    "                    impulse_matrix[j, :, i] = t_impulse\n",
    "                    a_matrix[:, j] = a\n",
    "                    i += 1\n",
    "                elif i >= restrict_period:\n",
    "                    impulse_matrix[j, :, i] = t_impulse\n",
    "                    a_matrix[:, j] = a\n",
    "                    i += 1\n",
    "                else:\n",
    "                    i = 0\n",
    "                    a = get_sphere_rand()\n",
    "    \n",
    "    if plot:\n",
    "        print a_matrix.mean(0).shape\n",
    "        fig = plt.figure(figsize=(20, 10))\n",
    "        plt.plot(impulse_matrix.mean(0)[0, :], label=\"SRB\")\n",
    "        plt.plot(impulse_matrix.mean(0)[1, :], label=\"DXI\")\n",
    "        plt.plot(impulse_matrix.mean(0)[2, :], label=\"DXJ\")\n",
    "        plt.plot(impulse_matrix.mean(0)[3, :], label=\"DJM\")\n",
    "        plt.plot(impulse_matrix.mean(0)[4, :], label=\"ORC58\")\n",
    "        plt.plot(impulse_matrix.mean(0)[5, :], label=\"ORC62\")\n",
    "        plt.legend()\n",
    "        plt.show()\n",
    "    \n",
    "    return a_matrix"
   ]
  },
  {
   "cell_type": "code",
   "execution_count": 6,
   "metadata": {},
   "outputs": [],
   "source": [
    "larger_constraints = np.array(([True, True, True, False], [False, False, True, False], [False, True, True, False], [False, False, True, False], [False, False, False, True], [False, False, False, True]))\n",
    "less_constraints = np.array(([False, False, False, False], [True, False, False, False], [True, False, False, False], [True, True, False, False], [True, False, False, False], [True, False, False, False]))"
   ]
  },
  {
   "cell_type": "code",
   "execution_count": 7,
   "metadata": {},
   "outputs": [],
   "source": [
    "a = irf(result, 0, larger_constraints, less_constraints, 5, 200, 2, plot=False)\n",
    "# 钢铁限产"
   ]
  },
  {
   "cell_type": "code",
   "execution_count": 8,
   "metadata": {},
   "outputs": [
    {
     "data": {
      "text/plain": [
       "array([ 0.53756044,  0.51072015,  0.22948202, -0.0474934 ,  0.1434727 ,\n",
       "        0.03775386])"
      ]
     },
     "execution_count": 8,
     "metadata": {},
     "output_type": "execute_result"
    }
   ],
   "source": [
    "a.mean(1)"
   ]
  },
  {
   "cell_type": "code",
   "execution_count": null,
   "metadata": {},
   "outputs": [
    {
     "name": "stdout",
     "output_type": "stream",
     "text": [
      "200\n",
      "201\n"
     ]
    }
   ],
   "source": [
    "# 钢铁限产\n",
    "fit_lag = 200\n",
    "gt_result_lst = []\n",
    "\n",
    "for i in xrange(len(data)):\n",
    "    if i < fit_lag:\n",
    "        continue\n",
    "    print i\n",
    "    this_data = this_data.iloc[i - fit_lag : i, :]\n",
    "    var = sm.VAR(endog=data.values)\n",
    "    result = var.fit(lags, trend=\"nc\")\n",
    "    \n",
    "    a = irf(result, 0, larger_constraints, less_constraints, 5, 200, 2, plot=False)\n",
    "    gt_result_lst.append(a.mean(1))"
   ]
  },
  {
   "cell_type": "code",
   "execution_count": null,
   "metadata": {},
   "outputs": [],
   "source": [
    "gt_ar = np.array(gt_result_lst)"
   ]
  },
  {
   "cell_type": "code",
   "execution_count": null,
   "metadata": {},
   "outputs": [],
   "source": [
    "fig = plt.figure(figsize=(20, 10))\n",
    "plt.plot(gt_ar[0, :], label=\"0\")\n",
    "plt.plot(gt_ar[1, :], label=\"1\")\n",
    "plt.plot(gt_ar[2, :], label=\"2\")\n",
    "plt.plot(gt_ar[3, :], label=\"3\")\n",
    "plt.plot(gt_ar[4, :], label=\"4\")\n",
    "plt.plot(gt_ar[5, :], label=\"5\")\n",
    "plt.legend()\n",
    "plt.show()"
   ]
  },
  {
   "cell_type": "code",
   "execution_count": null,
   "metadata": {},
   "outputs": [],
   "source": [
    "# 焦化限产\n",
    "fit_lag = 200\n",
    "jh_result_lst = []\n",
    "\n",
    "for i in xrange(len(data)):\n",
    "    if i < fit_lag:\n",
    "        continue\n",
    "    this_data = data.iloc[i - fit_lag : i, :]\n",
    "    var = sm.VAR(endog=data.values)\n",
    "    result = var.fit(lags, trend=\"nc\")\n",
    "    \n",
    "    a = irf(result, 1, larger_constraints, less_constraints, 5, 200, 2, plot=False)\n",
    "    jh_result_lst.append(a.mean(1))"
   ]
  },
  {
   "cell_type": "code",
   "execution_count": null,
   "metadata": {},
   "outputs": [],
   "source": [
    "jh_ar = np.array(jh_result_lst)"
   ]
  },
  {
   "cell_type": "code",
   "execution_count": null,
   "metadata": {},
   "outputs": [],
   "source": [
    "fig = plt.figure(figsize=(20, 10))\n",
    "plt.plot(jh_ar[0, :], label=\"0\")\n",
    "plt.plot(jh_ar[1, :], label=\"1\")\n",
    "plt.plot(jh_ar[2, :], label=\"2\")\n",
    "plt.plot(jh_ar[3, :], label=\"3\")\n",
    "plt.plot(jh_ar[4, :], label=\"4\")\n",
    "plt.plot(jh_ar[5, :], label=\"5\")\n",
    "plt.legend()\n",
    "plt.show()"
   ]
  },
  {
   "cell_type": "code",
   "execution_count": null,
   "metadata": {},
   "outputs": [],
   "source": [
    "# 钢铁需求\n",
    "fit_lag = 200\n",
    "gx_result_lst = []\n",
    "\n",
    "for i in xrange(len(data)):\n",
    "    if i < fit_lag:\n",
    "        continue\n",
    "    this_data = data.iloc[i - fit_lag : i, :]\n",
    "    var = sm.VAR(endog=data.values)\n",
    "    result = var.fit(lags, trend=\"nc\")\n",
    "    \n",
    "    a = irf(result, 2, larger_constraints, less_constraints, 5, 200, 2, plot=False)\n",
    "    gx_result_lst.append(a.mean(1))"
   ]
  },
  {
   "cell_type": "code",
   "execution_count": null,
   "metadata": {},
   "outputs": [],
   "source": [
    "gx_ar = np.array(gx_result_lst)"
   ]
  },
  {
   "cell_type": "code",
   "execution_count": null,
   "metadata": {},
   "outputs": [],
   "source": [
    "fig = plt.figure(figsize=(20, 10))\n",
    "plt.plot(gx_ar[0, :], label=\"0\")\n",
    "plt.plot(gx_ar[1, :], label=\"1\")\n",
    "plt.plot(gx_ar[2, :], label=\"2\")\n",
    "plt.plot(gx_ar[3, :], label=\"3\")\n",
    "plt.plot(gx_ar[4, :], label=\"4\")\n",
    "plt.plot(gx_ar[5, :], label=\"5\")\n",
    "plt.legend()\n",
    "plt.show()"
   ]
  },
  {
   "cell_type": "code",
   "execution_count": null,
   "metadata": {},
   "outputs": [],
   "source": [
    "# 铁矿石涨\n",
    "fit_lag = 200\n",
    "tk_result_lst = []\n",
    "\n",
    "for i in xrange(len(data)):\n",
    "    if i < fit_lag:\n",
    "        continue\n",
    "    this_data = data.iloc[i - fit_lag : i, :]\n",
    "    var = sm.VAR(endog=data.values)\n",
    "    result = var.fit(lags, trend=\"nc\")\n",
    "    \n",
    "    a = irf(result, 2, larger_constraints, less_constraints, 5, 200, 2, plot=False)\n",
    "    tk_result_lst.append(a.mean(1))"
   ]
  },
  {
   "cell_type": "code",
   "execution_count": null,
   "metadata": {},
   "outputs": [],
   "source": [
    "tk_ar = np.array(tk_result_lst)"
   ]
  },
  {
   "cell_type": "code",
   "execution_count": null,
   "metadata": {},
   "outputs": [],
   "source": [
    "fig = plt.figure(figsize=(20, 10))\n",
    "plt.plot(tk_ar[0, :], label=\"0\")\n",
    "plt.plot(tk_ar[1, :], label=\"1\")\n",
    "plt.plot(tk_ar[2, :], label=\"2\")\n",
    "plt.plot(tk_ar[3, :], label=\"3\")\n",
    "plt.plot(tk_ar[4, :], label=\"4\")\n",
    "plt.plot(tk_ar[5, :], label=\"5\")\n",
    "plt.legend()\n",
    "plt.show()"
   ]
  },
  {
   "cell_type": "code",
   "execution_count": null,
   "metadata": {},
   "outputs": [],
   "source": [
    "irf(result, 1, larger_constraints, less_constraints, 5, 200, 2)\n",
    "# 焦化限产"
   ]
  },
  {
   "cell_type": "code",
   "execution_count": null,
   "metadata": {},
   "outputs": [],
   "source": [
    "irf(result, 2, larger_constraints, less_constraints, 5, 200, 2)\n",
    "# 钢铁需求"
   ]
  },
  {
   "cell_type": "code",
   "execution_count": null,
   "metadata": {},
   "outputs": [],
   "source": [
    "irf(result, 3, larger_constraints, less_constraints, 5, 200, 2)\n",
    "# 铁矿石涨"
   ]
  }
 ],
 "metadata": {
  "kernelspec": {
   "display_name": "Python 2",
   "language": "python",
   "name": "python2"
  },
  "language_info": {
   "codemirror_mode": {
    "name": "ipython",
    "version": 2
   },
   "file_extension": ".py",
   "mimetype": "text/x-python",
   "name": "python",
   "nbconvert_exporter": "python",
   "pygments_lexer": "ipython2",
   "version": "2.7.14"
  }
 },
 "nbformat": 4,
 "nbformat_minor": 2
}
