{
 "cells": [
  {
   "cell_type": "markdown",
   "metadata": {},
   "source": [
    "These analysis are based on https://cran.r-project.org/web/packages/VARsignR/vignettes/VARsignR-vignette.html#fnref2"
   ]
  },
  {
   "cell_type": "code",
   "execution_count": 1,
   "metadata": {},
   "outputs": [
    {
     "name": "stderr",
     "output_type": "stream",
     "text": [
      "E:\\Anaconda2\\lib\\site-packages\\statsmodels\\compat\\pandas.py:56: FutureWarning: The pandas.core.datetools module is deprecated and will be removed in a future version. Please use the pandas.tseries module instead.\n",
      "  from pandas.core import datetools\n"
     ]
    }
   ],
   "source": [
    "import matplotlib.pyplot as plt\n",
    "%matplotlib inline\n",
    "import pandas as pd\n",
    "from statsmodels.tsa.vector_ar import var_model as sm\n",
    "import numpy as np\n",
    "from math import sqrt\n",
    "from statsmodels.tsa.vector_ar import util"
   ]
  },
  {
   "cell_type": "markdown",
   "metadata": {},
   "source": [
    "first we need a pure cholesky decomposition version"
   ]
  },
  {
   "cell_type": "code",
   "execution_count": 2,
   "metadata": {},
   "outputs": [],
   "source": [
    "data = pd.read_csv(\"test_data.csv\", index_col=0)\n",
    "lags = 1"
   ]
  },
  {
   "cell_type": "code",
   "execution_count": 3,
   "metadata": {},
   "outputs": [],
   "source": [
    "var = sm.VAR(endog=data.values)"
   ]
  },
  {
   "cell_type": "markdown",
   "metadata": {},
   "source": [
    "first estimate unrestricted VAR, then distract A_td and sigma_td from the regression result, where  \n",
    "$$\\Sigma = E[uu^T]$$\n",
    "$$u = Be$$\n",
    "$$BB^T = \\Sigma$$"
   ]
  },
  {
   "cell_type": "code",
   "execution_count": 6,
   "metadata": {},
   "outputs": [],
   "source": [
    "result = var.fit(maxlags=lags, trend=\"nc\")\n",
    "p, k = result.coefs.shape[0], result.coefs.shape[1]\n",
    "A_1 = result.coefs[0]\n",
    "sigma = result.sigma_u"
   ]
  },
  {
   "cell_type": "markdown",
   "metadata": {},
   "source": [
    "for estimating VAR(p), we have to write the estimation ourselves"
   ]
  },
  {
   "cell_type": "markdown",
   "metadata": {},
   "source": [
    "Then we use a cholesky decomposition to generate uncorrelated innovations, notice that we are not using the decomposition matrix as an ordering, but just to generate uncorrelated innovations, namely P"
   ]
  },
  {
   "cell_type": "code",
   "execution_count": 7,
   "metadata": {},
   "outputs": [],
   "source": [
    "P = np.linalg.cholesky(sigma)\n",
    "diag = np.diag(P)\n",
    "D = np.eye(len(P)) * P\n",
    "A = D.dot(np.linalg.inv(P))\n",
    "\n",
    "A_star = A.dot(A_1)"
   ]
  },
  {
   "cell_type": "markdown",
   "metadata": {},
   "source": [
    "So the innovations according to the cholesky decomposition should be  \n",
    "following Uhlig’s(2005) rejection method, we draw impulse vector a from unit sphere"
   ]
  },
  {
   "cell_type": "code",
   "execution_count": 8,
   "metadata": {},
   "outputs": [],
   "source": [
    "def get_sphere_rand(larger_c, less_c):\n",
    "    while True:\n",
    "        trand = np.random.rand(len(sigma)) - 0.5\n",
    "        tt = trand / sqrt(sum(trand**2))\n",
    "        if (tt[larger_c] > 0.0).all() and (tt[less_c] < 0.0).all():\n",
    "            return tt"
   ]
  },
  {
   "cell_type": "markdown",
   "metadata": {},
   "source": [
    "Then we start the restricted impulse reponse analysis"
   ]
  },
  {
   "cell_type": "code",
   "execution_count": 9,
   "metadata": {},
   "outputs": [],
   "source": [
    "MAX_COUNT = 2e5"
   ]
  },
  {
   "cell_type": "code",
   "execution_count": 10,
   "metadata": {},
   "outputs": [
    {
     "name": "stdout",
     "output_type": "stream",
     "text": [
      "0\n",
      "1\n",
      "2\n",
      "3\n",
      "4\n",
      "5\n",
      "6\n",
      "7\n",
      "8\n",
      "9\n",
      "10\n",
      "11\n",
      "12\n",
      "13\n",
      "14\n",
      "15\n",
      "16\n",
      "17\n",
      "18\n",
      "19\n"
     ]
    }
   ],
   "source": [
    "count = 0\n",
    "'''\n",
    "larger_constraints = np.array([True, True, True, True, False, False, False, False])\n",
    "less_constraints = np.array([False, False, False, False, True, True, True, True])\n",
    "larger_c = np.array([False, False, False, False, False, False, False, False])\n",
    "less_c = np.array([False, False, False, False, False, False, False, False])\n",
    "'''\n",
    "\n",
    "larger_constraints = np.array([True, True, False, False])\n",
    "less_constraints = np.array([False, False, True, True])\n",
    "larger_c = np.array([False, False, False, False])\n",
    "less_c = np.array([False, False, False, False])\n",
    "\n",
    "impulse_count = 6\n",
    "draw_count = 20\n",
    "# TODO: the restriction can only have effect for several period\n",
    "# TODO: how to calculate in VAR(p)?\n",
    "\n",
    "impulse_matrix = np.zeros((draw_count, A.shape[0], impulse_count))\n",
    "a = None\n",
    "A_tt = np.linalg.inv((np.eye(len(A_star)) - A_star)).dot(A_star)\n",
    "for j in xrange(draw_count):\n",
    "    i = 0\n",
    "    a = get_sphere_rand(larger_c, less_c)\n",
    "    print j\n",
    "    while True:\n",
    "        if i == impulse_count:\n",
    "            break\n",
    "        A_tmp = A_tt**(i + 1)\n",
    "        t_impulse = A_tmp.dot(a)\n",
    "        if (t_impulse[larger_constraints] > 0.0).all() and (t_impulse[less_constraints] < 0.0).all():\n",
    "            impulse_matrix[j, :, i] = t_impulse\n",
    "            i += 1\n",
    "        else:\n",
    "            a = get_sphere_rand(larger_constraints, less_constraints)\n",
    "            i = 0"
   ]
  },
  {
   "cell_type": "code",
   "execution_count": 11,
   "metadata": {},
   "outputs": [
    {
     "data": {
      "text/plain": [
       "[<matplotlib.lines.Line2D at 0xd686a90>]"
      ]
     },
     "execution_count": 11,
     "metadata": {},
     "output_type": "execute_result"
    },
    {
     "data": {
      "image/png": "[encoded data removed]",
      "text/plain": [
       "<Figure size 432x288 with 1 Axes>"
      ]
     },
     "metadata": {},
     "output_type": "display_data"
    }
   ],
   "source": [
    "plt.plot(impulse_matrix.mean(0)[0, :])\n",
    "plt.plot(impulse_matrix.mean(0)[1, :])\n",
    "plt.plot(impulse_matrix.mean(0)[2, :])\n",
    "plt.plot(impulse_matrix.mean(0)[3, :])\n",
    "\n",
    "#std = impulse_matrix.std(0)[1, :]\n",
    "#plt.plot(mean - 3*std)\n",
    "#plt.plot(mean + 3*std)"
   ]
  },
  {
   "cell_type": "markdown",
   "metadata": {},
   "source": [
    "here is a VAR(p) version"
   ]
  },
  {
   "cell_type": "code",
   "execution_count": 12,
   "metadata": {},
   "outputs": [],
   "source": [
    "y = util.get_var_endog(data.values, lags=2, trend=\"nc\")"
   ]
  },
  {
   "cell_type": "code",
   "execution_count": 13,
   "metadata": {},
   "outputs": [],
   "source": [
    "var2 = sm.VAR(endog=y)"
   ]
  },
  {
   "cell_type": "code",
   "execution_count": 14,
   "metadata": {},
   "outputs": [],
   "source": [
    "result = var2.fit(maxlags=lags, trend=\"nc\")\n",
    "p, k = result.coefs.shape[0], result.coefs.shape[1]\n",
    "A_1 = result.coefs[0]\n",
    "sigma = result.sigma_u"
   ]
  },
  {
   "cell_type": "code",
   "execution_count": 15,
   "metadata": {},
   "outputs": [],
   "source": [
    "P = np.linalg.cholesky(sigma)\n",
    "diag = np.diag(P)\n",
    "D = np.eye(len(P)) * P\n",
    "A = D.dot(np.linalg.inv(P))\n",
    "\n",
    "A_star = A.dot(A_1)"
   ]
  },
  {
   "cell_type": "code",
   "execution_count": null,
   "metadata": {},
   "outputs": [
    {
     "name": "stdout",
     "output_type": "stream",
     "text": [
      "0\n"
     ]
    }
   ],
   "source": [
    "count = 0\n",
    "\n",
    "larger_constraints = np.array([True, True, True, True, False, False, False, False])\n",
    "less_constraints = np.array([False, False, False, False, True, True, True, True])\n",
    "larger_c = np.array([False, False, False, False, False, False, False, False])\n",
    "less_c = np.array([False, False, False, False, False, False, False, False])\n",
    "\n",
    "'''\n",
    "larger_constraints = np.array([True, True, False, False])\n",
    "less_constraints = np.array([False, False, True, True])\n",
    "larger_c = np.array([False, False, False, False])\n",
    "less_c = np.array([False, False, False, False])\n",
    "'''\n",
    "impulse_count = 2\n",
    "draw_count = 2\n",
    "# TODO: the restriction can only have effect for several period\n",
    "# TODO: how to calculate in VAR(p)?\n",
    "\n",
    "impulse_matrix = np.zeros((draw_count, A.shape[0], impulse_count))\n",
    "a = None\n",
    "A_tt = np.linalg.inv((np.eye(len(A_star)) - A_star)).dot(A_star)\n",
    "for j in xrange(draw_count):\n",
    "    i = 0\n",
    "    a = get_sphere_rand(larger_c, less_c)\n",
    "    print j\n",
    "    while True:\n",
    "        if i == impulse_count:\n",
    "            break\n",
    "        A_tmp = A_tt**(i + 1)\n",
    "        t_impulse = A_tmp.dot(a)\n",
    "        if (t_impulse[larger_constraints] > 0.0).all() and (t_impulse[less_constraints] < 0.0).all():\n",
    "            impulse_matrix[j, :, i] = t_impulse\n",
    "            i += 1\n",
    "        else:\n",
    "            a = get_sphere_rand(larger_constraints, less_constraints)\n",
    "            i = 0"
   ]
  },
  {
   "cell_type": "code",
   "execution_count": null,
   "metadata": {},
   "outputs": [],
   "source": []
  }
 ],
 "metadata": {
  "kernelspec": {
   "display_name": "Python 2",
   "language": "python",
   "name": "python2"
  },
  "language_info": {
   "codemirror_mode": {
    "name": "ipython",
    "version": 2
   },
   "file_extension": ".py",
   "mimetype": "text/x-python",
   "name": "python",
   "nbconvert_exporter": "python",
   "pygments_lexer": "ipython2",
   "version": "2.7.14"
  }
 },
 "nbformat": 4,
 "nbformat_minor": 2
}
